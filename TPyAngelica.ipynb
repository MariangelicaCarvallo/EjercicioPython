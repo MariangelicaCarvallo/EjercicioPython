{
  "nbformat": 4,
  "nbformat_minor": 0,
  "metadata": {
    "colab": {
      "name": "TPyAngelica.ipynb",
      "provenance": [],
      "authorship_tag": "ABX9TyMjYBogRFnHxTwpN9jPBoTv",
      "include_colab_link": true
    },
    "kernelspec": {
      "name": "python3",
      "display_name": "Python 3"
    },
    "language_info": {
      "name": "python"
    }
  },
  "cells": [
    {
      "cell_type": "markdown",
      "metadata": {
        "id": "view-in-github",
        "colab_type": "text"
      },
      "source": [
        "<a href=\"https://colab.research.google.com/github/MariangelicaCarvallo/EjercicioPython/blob/main/TPyAngelica.ipynb\" target=\"_parent\"><img src=\"https://colab.research.google.com/assets/colab-badge.svg\" alt=\"Open In Colab\"/></a>"
      ]
    },
    {
      "cell_type": "code",
      "source": [
        "x = int(input(\"Calificacion: \"))\n",
        "\n",
        "if x >= 9 and x <= 10:\n",
        "  print(\"A\")\n",
        "elif x >= 8 and x <= 9:\n",
        "  print(\"B\")\n",
        "elif x >= 7 and x <= 8:\n",
        "  print(\"C\")\n",
        "elif x >=6 and x <= 7:\n",
        "  print(\"D\")\n",
        "elif x >= 0 and x < 6:\n",
        "  print(\"F\")\n",
        "else:\n",
        "  print(\"Valor desconocido\")\n",
        "  \n",
        "\n",
        "\n",
        "\n",
        "\n",
        "\n",
        "\n",
        "  "
      ],
      "metadata": {
        "colab": {
          "base_uri": "https://localhost:8080/"
        },
        "id": "6YhghzCJyw-o",
        "outputId": "4eab7412-e50c-4614-df20-6b650affe4ec"
      },
      "execution_count": null,
      "outputs": [
        {
          "output_type": "stream",
          "name": "stdout",
          "text": [
            "Calificacion: 11\n",
            "Valor desconocido\n"
          ]
        }
      ]
    },
    {
      "cell_type": "code",
      "source": [
        ""
      ],
      "metadata": {
        "id": "FK8_q-IHC1Gi"
      },
      "execution_count": null,
      "outputs": []
    },
    {
      "cell_type": "code",
      "source": [
        "numero = 0\n",
        "while numero >= 0 and numero <5:\n",
        "  numero = numero + 1\n",
        "  print(numero)"
      ],
      "metadata": {
        "colab": {
          "base_uri": "https://localhost:8080/"
        },
        "id": "J54xVoWnDhXt",
        "outputId": "ed027593-ae1d-4621-ef75-bf74b3b28e7a"
      },
      "execution_count": null,
      "outputs": [
        {
          "output_type": "stream",
          "name": "stdout",
          "text": [
            "1\n",
            "2\n",
            "3\n",
            "4\n",
            "5\n"
          ]
        }
      ]
    },
    {
      "cell_type": "code",
      "source": [
        ""
      ],
      "metadata": {
        "id": "fThzdR-bFson"
      },
      "execution_count": null,
      "outputs": []
    },
    {
      "cell_type": "code",
      "source": [
        "X = 0\n",
        "while x <6:\n",
        "  print(x)\n",
        "  x >= 1\n",
        "\n"
      ],
      "metadata": {
        "id": "e9hc_0_2F59G"
      },
      "execution_count": null,
      "outputs": []
    },
    {
      "cell_type": "code",
      "source": [
        "cadena = \"Hola\"\n",
        "'a'\n",
        "for p in cadena:\n",
        "  print(p)\n",
        "else:\n",
        "  print(\"fin del ciclo for\")\n",
        "  "
      ],
      "metadata": {
        "colab": {
          "base_uri": "https://localhost:8080/"
        },
        "id": "IWilgsKMKsoV",
        "outputId": "e34e5e17-0f38-4ffc-e396-bb5107210efd"
      },
      "execution_count": null,
      "outputs": [
        {
          "output_type": "stream",
          "name": "stdout",
          "text": [
            "H\n",
            "o\n",
            "l\n",
            "a\n",
            "fin del ciclo for\n"
          ]
        }
      ]
    },
    {
      "cell_type": "code",
      "source": [
        "cadena = \"hola\"\n",
        "\n",
        "for p in cadena:\n",
        "  print(p)\n",
        "else:\n",
        "  print(\"fin del ciclo for\")\n",
        "  "
      ],
      "metadata": {
        "colab": {
          "base_uri": "https://localhost:8080/"
        },
        "id": "RAHpgfroLddC",
        "outputId": "8fe343c3-a9a0-437e-faf6-2a4fe0b9ce92"
      },
      "execution_count": null,
      "outputs": [
        {
          "output_type": "stream",
          "name": "stdout",
          "text": [
            "h\n",
            "o\n",
            "l\n",
            "a\n",
            "fin del ciclo for\n"
          ]
        }
      ]
    },
    {
      "cell_type": "code",
      "source": [
        ""
      ],
      "metadata": {
        "id": "KMuhZmOALwz6"
      },
      "execution_count": null,
      "outputs": []
    },
    {
      "cell_type": "code",
      "source": [
        "for i in \"holanda\":\n",
        "  if i == \"a\":\n",
        "    print(f\"letraencontrada: {i}\")\n",
        "    break\n",
        "else:\n",
        "  print(\"fin del ciclo\")"
      ],
      "metadata": {
        "colab": {
          "base_uri": "https://localhost:8080/"
        },
        "id": "co2bFrX-Mrmp",
        "outputId": "e125a8ee-4dd9-43ea-fff9-baa5f82b1c0e"
      },
      "execution_count": null,
      "outputs": [
        {
          "output_type": "stream",
          "name": "stdout",
          "text": [
            "letraencontrada: a\n"
          ]
        }
      ]
    },
    {
      "cell_type": "code",
      "source": [
        "for i in \"holanda\":\n",
        "  if i == \"a\":\n",
        "    print(f\"letraencontrada: {i}\")\n",
        "    #break\n",
        "  else:\n",
        "    print(\"fin del ciclo\")\n",
        "    "
      ],
      "metadata": {
        "colab": {
          "base_uri": "https://localhost:8080/"
        },
        "id": "MB-L3IdkNqfx",
        "outputId": "ac2ada4a-4c12-4754-dfe9-59c3287349ec"
      },
      "execution_count": null,
      "outputs": [
        {
          "output_type": "stream",
          "name": "stdout",
          "text": [
            "fin del ciclo\n",
            "fin del ciclo\n",
            "fin del ciclo\n",
            "letraencontrada: a\n",
            "fin del ciclo\n",
            "fin del ciclo\n",
            "letraencontrada: a\n"
          ]
        }
      ]
    },
    {
      "cell_type": "code",
      "source": [
        ""
      ],
      "metadata": {
        "id": "bkPyTxu1OTkJ"
      },
      "execution_count": null,
      "outputs": []
    },
    {
      "cell_type": "code",
      "source": [
        "for i in range(6):\n",
        " if i % 2 == 0 :\n",
        "   continue\n",
        " print (f\"letra encontrada: {i}\")\n"
      ],
      "metadata": {
        "colab": {
          "base_uri": "https://localhost:8080/"
        },
        "id": "hXh-gFmXOghR",
        "outputId": "57e3769d-1840-4228-9588-5b6c92fa26de"
      },
      "execution_count": null,
      "outputs": [
        {
          "output_type": "stream",
          "name": "stdout",
          "text": [
            "letra encontrada: 1\n",
            "letra encontrada: 3\n",
            "letra encontrada: 5\n"
          ]
        }
      ]
    },
    {
      "cell_type": "code",
      "source": [
        "i = 0\n",
        "while i < 6:\n",
        "  i += 1\n",
        "  if i == 3:\n",
        "    continue\n",
        "  print(i)\n"
      ],
      "metadata": {
        "colab": {
          "base_uri": "https://localhost:8080/"
        },
        "id": "7PXyTV1qetJX",
        "outputId": "9e13d3d8-207c-4fcb-8055-939d41575a18"
      },
      "execution_count": null,
      "outputs": [
        {
          "output_type": "stream",
          "name": "stdout",
          "text": [
            "1\n",
            "2\n",
            "4\n",
            "5\n",
            "6\n"
          ]
        }
      ]
    },
    {
      "cell_type": "code",
      "source": [
        "nombres+"
      ],
      "metadata": {
        "id": "jVnKNPYklC-n"
      },
      "execution_count": null,
      "outputs": []
    }
  ]
}